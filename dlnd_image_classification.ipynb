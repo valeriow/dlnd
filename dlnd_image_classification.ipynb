{
 "cells": [
  {
   "cell_type": "markdown",
   "metadata": {
    "collapsed": true,
    "deletable": true,
    "editable": true
   },
   "source": [
    "# Image Classification\n",
    "In this project, you'll classify images from the [CIFAR-10 dataset](https://www.cs.toronto.edu/~kriz/cifar.html).  The dataset consists of airplanes, dogs, cats, and other objects. You'll preprocess the images, then train a convolutional neural network on all the samples. The images need to be normalized and the labels need to be one-hot encoded.  You'll get to apply what you learned and build a convolutional, max pooling, dropout, and fully connected layers.  At the end, you'll get to see your neural network's predictions on the sample images.\n",
    "## Get the Data\n",
    "Run the following cell to download the [CIFAR-10 dataset for python](https://www.cs.toronto.edu/~kriz/cifar-10-python.tar.gz)."
   ]
  },
  {
   "cell_type": "code",
   "execution_count": 35,
   "metadata": {
    "collapsed": false,
    "deletable": true,
    "editable": true
   },
   "outputs": [
    {
     "name": "stdout",
     "output_type": "stream",
     "text": [
      "All files found!\n"
     ]
    }
   ],
   "source": [
    "\"\"\"\n",
    "DON'T MODIFY ANYTHING IN THIS CELL THAT IS BELOW THIS LINE\n",
    "\"\"\"\n",
    "from urllib.request import urlretrieve\n",
    "from os.path import isfile, isdir\n",
    "from tqdm import tqdm\n",
    "import problem_unittests as tests\n",
    "import tarfile\n",
    "\n",
    "cifar10_dataset_folder_path = 'cifar-10-batches-py'\n",
    "\n",
    "# Use Floyd's cifar-10 dataset if present\n",
    "floyd_cifar10_location = '/input/cifar-10/python.tar.gz'\n",
    "if isfile(floyd_cifar10_location):\n",
    "    tar_gz_path = floyd_cifar10_location\n",
    "else:\n",
    "    tar_gz_path = 'cifar-10-python.tar.gz'\n",
    "\n",
    "class DLProgress(tqdm):\n",
    "    last_block = 0\n",
    "\n",
    "    def hook(self, block_num=1, block_size=1, total_size=None):\n",
    "        self.total = total_size\n",
    "        self.update((block_num - self.last_block) * block_size)\n",
    "        self.last_block = block_num\n",
    "\n",
    "if not isfile(tar_gz_path):\n",
    "    with DLProgress(unit='B', unit_scale=True, miniters=1, desc='CIFAR-10 Dataset') as pbar:\n",
    "        urlretrieve(\n",
    "            'https://www.cs.toronto.edu/~kriz/cifar-10-python.tar.gz',\n",
    "            tar_gz_path,\n",
    "            pbar.hook)\n",
    "\n",
    "if not isdir(cifar10_dataset_folder_path):\n",
    "    with tarfile.open(tar_gz_path) as tar:\n",
    "        tar.extractall()\n",
    "        tar.close()\n",
    "\n",
    "\n",
    "tests.test_folder_path(cifar10_dataset_folder_path)"
   ]
  },
  {
   "cell_type": "markdown",
   "metadata": {
    "deletable": true,
    "editable": true
   },
   "source": [
    "## Explore the Data\n",
    "The dataset is broken into batches to prevent your machine from running out of memory.  The CIFAR-10 dataset consists of 5 batches, named `data_batch_1`, `data_batch_2`, etc.. Each batch contains the labels and images that are one of the following:\n",
    "* airplane\n",
    "* automobile\n",
    "* bird\n",
    "* cat\n",
    "* deer\n",
    "* dog\n",
    "* frog\n",
    "* horse\n",
    "* ship\n",
    "* truck\n",
    "\n",
    "Understanding a dataset is part of making predictions on the data.  Play around with the code cell below by changing the `batch_id` and `sample_id`. The `batch_id` is the id for a batch (1-5). The `sample_id` is the id for a image and label pair in the batch.\n",
    "\n",
    "Ask yourself \"What are all possible labels?\", \"What is the range of values for the image data?\", \"Are the labels in order or random?\".  Answers to questions like these will help you preprocess the data and end up with better predictions."
   ]
  },
  {
   "cell_type": "code",
   "execution_count": 36,
   "metadata": {
    "collapsed": false,
    "deletable": true,
    "editable": true,
    "scrolled": true
   },
   "outputs": [
    {
     "name": "stdout",
     "output_type": "stream",
     "text": [
      "\n",
      "Stats of batch 1:\n",
      "Samples: 10000\n",
      "Label Counts: {0: 1005, 1: 974, 2: 1032, 3: 1016, 4: 999, 5: 937, 6: 1030, 7: 1001, 8: 1025, 9: 981}\n",
      "First 20 Labels: [6, 9, 9, 4, 1, 1, 2, 7, 8, 3, 4, 7, 7, 2, 9, 9, 9, 3, 2, 6]\n",
      "\n",
      "Example of Image 9999:\n",
      "Image - Min Value: 4 Max Value: 252\n",
      "Image - Shape: (32, 32, 3)\n",
      "Label - Label Id: 5 Name: dog\n"
     ]
    },
    {
     "data": {
      "image/png": "[encoded data removed]",
      "text/plain": [
       "<matplotlib.figure.Figure at 0x7fb27c7d1f98>"
      ]
     },
     "metadata": {
      "image/png": {
       "height": 250,
       "width": 253
      }
     },
     "output_type": "display_data"
    }
   ],
   "source": [
    "%matplotlib inline\n",
    "%config InlineBackend.figure_format = 'retina'\n",
    "\n",
    "import helper\n",
    "import numpy as np\n",
    "\n",
    "# Explore the dataset\n",
    "batch_id = 1\n",
    "sample_id = 9999\n",
    "helper.display_stats(cifar10_dataset_folder_path, batch_id, sample_id)"
   ]
  },
  {
   "cell_type": "markdown",
   "metadata": {
    "deletable": true,
    "editable": true
   },
   "source": [
    "## Implement Preprocess Functions\n",
    "### Normalize\n",
    "In the cell below, implement the `normalize` function to take in image data, `x`, and return it as a normalized Numpy array. The values should be in the range of 0 to 1, inclusive.  The return object should be the same shape as `x`."
   ]
  },
  {
   "cell_type": "code",
   "execution_count": 37,
   "metadata": {
    "collapsed": false,
    "deletable": true,
    "editable": true
   },
   "outputs": [
    {
     "name": "stdout",
     "output_type": "stream",
     "text": [
      "Tests Passed\n"
     ]
    }
   ],
   "source": [
    "def normalize(x):\n",
    "    \"\"\"\n",
    "    Normalize a list of sample image data in the range of 0 to 1\n",
    "    : x: List of image data.  The image shape is (32, 32, 3)\n",
    "    : return: Numpy array of normalize data\n",
    "    \"\"\"\n",
    "    # TODO: Implement Function\n",
    "    return x/255\n",
    "\n",
    "\n",
    "\"\"\"\n",
    "DON'T MODIFY ANYTHING IN THIS CELL THAT IS BELOW THIS LINE\n",
    "\"\"\"\n",
    "tests.test_normalize(normalize)"
   ]
  },
  {
   "cell_type": "markdown",
   "metadata": {
    "deletable": true,
    "editable": true
   },
   "source": [
    "### One-hot encode\n",
    "Just like the previous code cell, you'll be implementing a function for preprocessing.  This time, you'll implement the `one_hot_encode` function. The input, `x`, are a list of labels.  Implement the function to return the list of labels as One-Hot encoded Numpy array.  The possible values for labels are 0 to 9. The one-hot encoding function should return the same encoding for each value between each call to `one_hot_encode`.  Make sure to save the map of encodings outside the function.\n",
    "\n",
    "Hint: Don't reinvent the wheel."
   ]
  },
  {
   "cell_type": "code",
   "execution_count": 38,
   "metadata": {
    "collapsed": false,
    "deletable": true,
    "editable": true
   },
   "outputs": [
    {
     "name": "stdout",
     "output_type": "stream",
     "text": [
      "Tests Passed\n"
     ]
    }
   ],
   "source": [
    "def one_hot_encode(x):\n",
    "    \"\"\"\n",
    "    One hot encode a list of sample labels. Return a one-hot encoded vector for each label.\n",
    "    : x: List of sample Labels\n",
    "    : return: Numpy array of one-hot encoded labels\n",
    "    \"\"\"\n",
    "    # TODO: Implement Function\n",
    "    length_x = len(x)\n",
    "    y = np.zeros((length_x, 10))\n",
    "    for i in range(0, length_x):\n",
    "        y[i,x[i]] = 1\n",
    "    return y\n",
    "    \n",
    "\n",
    "\"\"\"\n",
    "DON'T MODIFY ANYTHING IN THIS CELL THAT IS BELOW THIS LINE\n",
    "\"\"\"\n",
    "tests.test_one_hot_encode(one_hot_encode)"
   ]
  },
  {
   "cell_type": "markdown",
   "metadata": {
    "deletable": true,
    "editable": true
   },
   "source": [
    "### Randomize Data\n",
    "As you saw from exploring the data above, the order of the samples are randomized.  It doesn't hurt to randomize it again, but you don't need to for this dataset."
   ]
  },
  {
   "cell_type": "markdown",
   "metadata": {
    "deletable": true,
    "editable": true
   },
   "source": [
    "## Preprocess all the data and save it\n",
    "Running the code cell below will preprocess all the CIFAR-10 data and save it to file. The code below also uses 10% of the training data for validation."
   ]
  },
  {
   "cell_type": "code",
   "execution_count": 39,
   "metadata": {
    "collapsed": false,
    "deletable": true,
    "editable": true
   },
   "outputs": [],
   "source": [
    "\"\"\"\n",
    "DON'T MODIFY ANYTHING IN THIS CELL\n",
    "\"\"\"\n",
    "# Preprocess Training, Validation, and Testing Data\n",
    "helper.preprocess_and_save_data(cifar10_dataset_folder_path, normalize, one_hot_encode)"
   ]
  },
  {
   "cell_type": "markdown",
   "metadata": {
    "deletable": true,
    "editable": true
   },
   "source": [
    "# Check Point\n",
    "This is your first checkpoint.  If you ever decide to come back to this notebook or have to restart the notebook, you can start from here.  The preprocessed data has been saved to disk."
   ]
  },
  {
   "cell_type": "code",
   "execution_count": 1,
   "metadata": {
    "collapsed": true,
    "deletable": true,
    "editable": true
   },
   "outputs": [],
   "source": [
    "\"\"\"\n",
    "DON'T MODIFY ANYTHING IN THIS CELL\n",
    "\"\"\"\n",
    "import pickle\n",
    "import problem_unittests as tests\n",
    "import helper\n",
    "\n",
    "# Load the Preprocessed Validation data\n",
    "valid_features, valid_labels = pickle.load(open('preprocess_validation.p', mode='rb'))"
   ]
  },
  {
   "cell_type": "markdown",
   "metadata": {
    "deletable": true,
    "editable": true
   },
   "source": [
    "## Build the network\n",
    "For the neural network, you'll build each layer into a function.  Most of the code you've seen has been outside of functions. To test your code more thoroughly, we require that you put each layer in a function.  This allows us to give you better feedback and test for simple mistakes using our unittests before you submit your project.\n",
    "\n",
    ">**Note:** If you're finding it hard to dedicate enough time for this course each week, we've provided a small shortcut to this part of the project. In the next couple of problems, you'll have the option to use classes from the [TensorFlow Layers](https://www.tensorflow.org/api_docs/python/tf/layers) or [TensorFlow Layers (contrib)](https://www.tensorflow.org/api_guides/python/contrib.layers) packages to build each layer, except the layers you build in the \"Convolutional and Max Pooling Layer\" section.  TF Layers is similar to Keras's and TFLearn's abstraction to layers, so it's easy to pickup.\n",
    "\n",
    ">However, if you would like to get the most out of this course, try to solve all the problems _without_ using anything from the TF Layers packages. You **can** still use classes from other packages that happen to have the same name as ones you find in TF Layers! For example, instead of using the TF Layers version of the `conv2d` class, [tf.layers.conv2d](https://www.tensorflow.org/api_docs/python/tf/layers/conv2d), you would want to use the TF Neural Network version of `conv2d`, [tf.nn.conv2d](https://www.tensorflow.org/api_docs/python/tf/nn/conv2d). \n",
    "\n",
    "Let's begin!\n",
    "\n",
    "### Input\n",
    "The neural network needs to read the image data, one-hot encoded labels, and dropout keep probability. Implement the following functions\n",
    "* Implement `neural_net_image_input`\n",
    " * Return a [TF Placeholder](https://www.tensorflow.org/api_docs/python/tf/placeholder)\n",
    " * Set the shape using `image_shape` with batch size set to `None`.\n",
    " * Name the TensorFlow placeholder \"x\" using the TensorFlow `name` parameter in the [TF Placeholder](https://www.tensorflow.org/api_docs/python/tf/placeholder).\n",
    "* Implement `neural_net_label_input`\n",
    " * Return a [TF Placeholder](https://www.tensorflow.org/api_docs/python/tf/placeholder)\n",
    " * Set the shape using `n_classes` with batch size set to `None`.\n",
    " * Name the TensorFlow placeholder \"y\" using the TensorFlow `name` parameter in the [TF Placeholder](https://www.tensorflow.org/api_docs/python/tf/placeholder).\n",
    "* Implement `neural_net_keep_prob_input`\n",
    " * Return a [TF Placeholder](https://www.tensorflow.org/api_docs/python/tf/placeholder) for dropout keep probability.\n",
    " * Name the TensorFlow placeholder \"keep_prob\" using the TensorFlow `name` parameter in the [TF Placeholder](https://www.tensorflow.org/api_docs/python/tf/placeholder).\n",
    "\n",
    "These names will be used at the end of the project to load your saved model.\n",
    "\n",
    "Note: `None` for shapes in TensorFlow allow for a dynamic size."
   ]
  },
  {
   "cell_type": "code",
   "execution_count": 2,
   "metadata": {
    "collapsed": false,
    "deletable": true,
    "editable": true
   },
   "outputs": [
    {
     "name": "stdout",
     "output_type": "stream",
     "text": [
      "Image Input Tests Passed.\n",
      "Label Input Tests Passed.\n",
      "Keep Prob Tests Passed.\n"
     ]
    }
   ],
   "source": [
    "import tensorflow as tf\n",
    "\n",
    "def neural_net_image_input(image_shape):\n",
    "    \"\"\"\n",
    "    Return a Tensor for a batch of image input\n",
    "    : image_shape: Shape of the images\n",
    "    : return: Tensor for image input.\n",
    "    \"\"\"\n",
    "    # TODO: Implement Function\n",
    "    return  tf.placeholder(tf.float32, [None, image_shape[0],image_shape[1],image_shape[2]] , name='x')\n",
    "\n",
    "\n",
    "def neural_net_label_input(n_classes):\n",
    "    \"\"\"\n",
    "    Return a Tensor for a batch of label input\n",
    "    : n_classes: Number of classes\n",
    "    : return: Tensor for label input.\n",
    "    \"\"\"\n",
    "    # TODO: Implement Function\n",
    "    return  tf.placeholder(tf.float32, [None, n_classes], name='y')\n",
    "\n",
    "\n",
    "def neural_net_keep_prob_input():\n",
    "    \"\"\"\n",
    "    Return a Tensor for keep probability\n",
    "    : return: Tensor for keep probability.\n",
    "    \"\"\"\n",
    "    # TODO: Implement Function\n",
    "    return tf.placeholder(tf.float32, name='keep_prob')\n",
    "\n",
    "\"\"\"\n",
    "DON'T MODIFY ANYTHING IN THIS CELL THAT IS BELOW THIS LINE\n",
    "\"\"\"\n",
    "tf.reset_default_graph()\n",
    "tests.test_nn_image_inputs(neural_net_image_input)\n",
    "tests.test_nn_label_inputs(neural_net_label_input)\n",
    "tests.test_nn_keep_prob_inputs(neural_net_keep_prob_input)"
   ]
  },
  {
   "cell_type": "markdown",
   "metadata": {
    "deletable": true,
    "editable": true
   },
   "source": [
    "### Convolution and Max Pooling Layer\n",
    "Convolution layers have a lot of success with images. For this code cell, you should implement the function `conv2d_maxpool` to apply convolution then max pooling:\n",
    "* Create the weight and bias using `conv_ksize`, `conv_num_outputs` and the shape of `x_tensor`.\n",
    "* Apply a convolution to `x_tensor` using weight and `conv_strides`.\n",
    " * We recommend you use same padding, but you're welcome to use any padding.\n",
    "* Add bias\n",
    "* Add a nonlinear activation to the convolution.\n",
    "* Apply Max Pooling using `pool_ksize` and `pool_strides`.\n",
    " * We recommend you use same padding, but you're welcome to use any padding.\n",
    "\n",
    "**Note:** You **can't** use [TensorFlow Layers](https://www.tensorflow.org/api_docs/python/tf/layers) or [TensorFlow Layers (contrib)](https://www.tensorflow.org/api_guides/python/contrib.layers) for **this** layer, but you can still use TensorFlow's [Neural Network](https://www.tensorflow.org/api_docs/python/tf/nn) package. You may still use the shortcut option for all the **other** layers."
   ]
  },
  {
   "cell_type": "code",
   "execution_count": 3,
   "metadata": {
    "collapsed": false,
    "deletable": true,
    "editable": true
   },
   "outputs": [
    {
     "name": "stdout",
     "output_type": "stream",
     "text": [
      "Tests Passed\n"
     ]
    }
   ],
   "source": [
    "def conv2d_maxpool(x_tensor, conv_num_outputs, conv_ksize, conv_strides, pool_ksize, pool_strides):\n",
    "    \"\"\"\n",
    "    Apply convolution then max pooling to x_tensor\n",
    "    :param x_tensor: TensorFlow Tensor\n",
    "    :param conv_num_outputs: Number of outputs for the convolutional layer\n",
    "    :param conv_ksize: kernal size 2-D Tuple for the convolutional layer\n",
    "    :param conv_strides: Stride 2-D Tuple for convolution\n",
    "    :param pool_ksize: kernal size 2-D Tuple for pool\n",
    "    :param pool_strides: Stride 2-D Tuple for pool\n",
    "    : return: A tensor that represents convolution and max pooling of x_tensor\n",
    "    \"\"\"\n",
    "    # TODO: Implement Function\n",
    "    x_depth = x_tensor.get_shape().as_list()[-1]\n",
    "    weight= tf.Variable(tf.truncated_normal([conv_ksize[0], conv_ksize[1], x_depth, conv_num_outputs],stddev=0.1))\n",
    "    bias = tf.Variable(tf.zeros(conv_num_outputs))\n",
    "    convolution  = tf.nn.conv2d(x_tensor, weight, [1, conv_strides[0], conv_strides[1], 1], 'SAME') + bias\n",
    "    convolution  = tf.nn.relu(convolution)\n",
    "    convolution =  tf.nn.max_pool(convolution,[1, pool_ksize[0], pool_ksize[1], 1],[1, pool_strides[0], pool_strides[1], 1],'SAME')\n",
    "    return convolution \n",
    "\n",
    "\n",
    "\"\"\"\n",
    "DON'T MODIFY ANYTHING IN THIS CELL THAT IS BELOW THIS LINE\n",
    "\"\"\"\n",
    "tests.test_con_pool(conv2d_maxpool)"
   ]
  },
  {
   "cell_type": "markdown",
   "metadata": {
    "deletable": true,
    "editable": true
   },
   "source": [
    "### Flatten Layer\n",
    "Implement the `flatten` function to change the dimension of `x_tensor` from a 4-D tensor to a 2-D tensor.  The output should be the shape (*Batch Size*, *Flattened Image Size*). Shortcut option: you can use classes from the [TensorFlow Layers](https://www.tensorflow.org/api_docs/python/tf/layers) or [TensorFlow Layers (contrib)](https://www.tensorflow.org/api_guides/python/contrib.layers) packages for this layer. For more of a challenge, only use other TensorFlow packages."
   ]
  },
  {
   "cell_type": "code",
   "execution_count": 4,
   "metadata": {
    "collapsed": false,
    "deletable": true,
    "editable": true
   },
   "outputs": [
    {
     "name": "stdout",
     "output_type": "stream",
     "text": [
      "Tests Passed\n"
     ]
    }
   ],
   "source": [
    "def flatten(x_tensor):\n",
    "    \"\"\"\n",
    "    Flatten x_tensor to (Batch Size, Flattened Image Size)\n",
    "    : x_tensor: A tensor of size (Batch Size, ...), where ... are the image dimensions.\n",
    "    : return: A tensor of size (Batch Size, Flattened Image Size).\n",
    "    \"\"\"\n",
    "    # TODO: Implement Function\n",
    "    batch_size, *img_size = x_tensor.get_shape().as_list()\n",
    "    img_size = img_size[0] * img_size[1] * img_size[2]\n",
    "    return tf.reshape(x_tensor, [-1, img_size])\n",
    "\n",
    "\n",
    "\"\"\"\n",
    "DON'T MODIFY ANYTHING IN THIS CELL THAT IS BELOW THIS LINE\n",
    "\"\"\"\n",
    "tests.test_flatten(flatten)"
   ]
  },
  {
   "cell_type": "markdown",
   "metadata": {
    "deletable": true,
    "editable": true
   },
   "source": [
    "### Fully-Connected Layer\n",
    "Implement the `fully_conn` function to apply a fully connected layer to `x_tensor` with the shape (*Batch Size*, *num_outputs*). Shortcut option: you can use classes from the [TensorFlow Layers](https://www.tensorflow.org/api_docs/python/tf/layers) or [TensorFlow Layers (contrib)](https://www.tensorflow.org/api_guides/python/contrib.layers) packages for this layer. For more of a challenge, only use other TensorFlow packages."
   ]
  },
  {
   "cell_type": "code",
   "execution_count": 5,
   "metadata": {
    "collapsed": false,
    "deletable": true,
    "editable": true
   },
   "outputs": [
    {
     "name": "stdout",
     "output_type": "stream",
     "text": [
      "Tests Passed\n"
     ]
    }
   ],
   "source": [
    "def fully_conn(x_tensor, num_outputs):\n",
    "    \"\"\"\n",
    "    Apply a fully connected layer to x_tensor using weight and bias\n",
    "    : x_tensor: A 2-D tensor where the first dimension is batch size.\n",
    "    : num_outputs: The number of output that the new tensor should be.\n",
    "    : return: A 2-D tensor where the second dimension is num_outputs.\n",
    "    \"\"\"\n",
    "    # TODO: Implement Function\n",
    "    shape = x_tensor.get_shape().as_list()\n",
    "    weight = tf.Variable(tf.truncated_normal([shape[-1], num_outputs], stddev=0.1))\n",
    "    bias = tf.Variable(tf.zeros(num_outputs))\n",
    "    return tf.nn.relu(tf.add(tf.matmul(x_tensor, weight), bias))\n",
    "\n",
    "\n",
    "\"\"\"\n",
    "DON'T MODIFY ANYTHING IN THIS CELL THAT IS BELOW THIS LINE\n",
    "\"\"\"\n",
    "tests.test_fully_conn(fully_conn)"
   ]
  },
  {
   "cell_type": "markdown",
   "metadata": {
    "deletable": true,
    "editable": true
   },
   "source": [
    "### Output Layer\n",
    "Implement the `output` function to apply a fully connected layer to `x_tensor` with the shape (*Batch Size*, *num_outputs*). Shortcut option: you can use classes from the [TensorFlow Layers](https://www.tensorflow.org/api_docs/python/tf/layers) or [TensorFlow Layers (contrib)](https://www.tensorflow.org/api_guides/python/contrib.layers) packages for this layer. For more of a challenge, only use other TensorFlow packages.\n",
    "\n",
    "**Note:** Activation, softmax, or cross entropy should **not** be applied to this."
   ]
  },
  {
   "cell_type": "code",
   "execution_count": 6,
   "metadata": {
    "collapsed": false,
    "deletable": true,
    "editable": true
   },
   "outputs": [
    {
     "name": "stdout",
     "output_type": "stream",
     "text": [
      "Tests Passed\n"
     ]
    }
   ],
   "source": [
    "def output(x_tensor, num_outputs):\n",
    "    \"\"\"\n",
    "    Apply a output layer to x_tensor using weight and bias\n",
    "    : x_tensor: A 2-D tensor where the first dimension is batch size.\n",
    "    : num_outputs: The number of output that the new tensor should be.\n",
    "    : return: A 2-D tensor where the second dimension is num_outputs.\n",
    "    \"\"\"\n",
    "    # TODO: Implement Function\n",
    "    shape = x_tensor.get_shape().as_list()\n",
    "    weight = tf.Variable(tf.truncated_normal([shape[-1], num_outputs], stddev=0.1))\n",
    "    bias = tf.Variable(tf.zeros(num_outputs))\n",
    "    return tf.add(tf.matmul(x_tensor, weight), bias)\n",
    "\n",
    "\n",
    "\n",
    "\"\"\"\n",
    "DON'T MODIFY ANYTHING IN THIS CELL THAT IS BELOW THIS LINE\n",
    "\"\"\"\n",
    "tests.test_output(output)"
   ]
  },
  {
   "cell_type": "markdown",
   "metadata": {
    "deletable": true,
    "editable": true
   },
   "source": [
    "### Create Convolutional Model\n",
    "Implement the function `conv_net` to create a convolutional neural network model. The function takes in a batch of images, `x`, and outputs logits.  Use the layers you created above to create this model:\n",
    "\n",
    "* Apply 1, 2, or 3 Convolution and Max Pool layers\n",
    "* Apply a Flatten Layer\n",
    "* Apply 1, 2, or 3 Fully Connected Layers\n",
    "* Apply an Output Layer\n",
    "* Return the output\n",
    "* Apply [TensorFlow's Dropout](https://www.tensorflow.org/api_docs/python/tf/nn/dropout) to one or more layers in the model using `keep_prob`. "
   ]
  },
  {
   "cell_type": "code",
   "execution_count": 7,
   "metadata": {
    "collapsed": false,
    "deletable": true,
    "editable": true
   },
   "outputs": [
    {
     "name": "stdout",
     "output_type": "stream",
     "text": [
      "Neural Network Built!\n"
     ]
    }
   ],
   "source": [
    "def conv_net(x, keep_prob):\n",
    "    \"\"\"\n",
    "    Create a convolutional neural network model\n",
    "    : x: Placeholder tensor that holds image data.\n",
    "    : keep_prob: Placeholder tensor that hold dropout keep probability.\n",
    "    : return: Tensor that represents logits\n",
    "    \"\"\"\n",
    "    # TODO: Apply 1, 2, or 3 Convolution and Max Pool layers\n",
    "    #    Play around with different number of outputs, kernel size and stride\n",
    "    # Function Definition from Above:\n",
    "    #    conv2d_maxpool(x_tensor, conv_num_outputs, conv_ksize, conv_strides, pool_ksize, pool_strides)\n",
    "    \n",
    "    layer = conv2d_maxpool(x, 64, (4,4), (1,1), (2,2), (2,2))\n",
    "    tf.nn.dropout(layer, keep_prob=keep_prob)\n",
    "\n",
    "    # TODO: Apply a Flatten Layer\n",
    "    # Function Definition from Above:\n",
    "    #   flatten(x_tensor)\n",
    "    layer = flatten(layer)\n",
    "\n",
    "\n",
    "    # TODO: Apply 1, 2, or 3 Fully Connected Layers\n",
    "    #    Play around with different number of outputs\n",
    "    # Function Definition from Above:\n",
    "    #   fully_conn(x_tensor, num_outputs)\n",
    "    \n",
    "    layer = fully_conn(layer,500)\n",
    "    layer = tf.nn.dropout(layer, keep_prob)\n",
    "    layer = fully_conn(layer,100)\n",
    "    layer = tf.nn.dropout(layer, keep_prob)\n",
    "    \n",
    "    \n",
    "    # TODO: Apply an Output Layer\n",
    "    #    Set this to the number of classes\n",
    "    # Function Definition from Above:\n",
    "    #   output(x_tensor, num_outputs)\n",
    "    \n",
    "    out_layer = output(layer,10)\n",
    "\n",
    "    # TODO: return output\n",
    "    return out_layer\n",
    "\n",
    "\n",
    "\"\"\"\n",
    "DON'T MODIFY ANYTHING IN THIS CELL THAT IS BELOW THIS LINE\n",
    "\"\"\"\n",
    "\n",
    "##############################\n",
    "## Build the Neural Network ##\n",
    "##############################\n",
    "\n",
    "# Remove previous weights, bias, inputs, etc..\n",
    "tf.reset_default_graph()\n",
    "\n",
    "# Inputs\n",
    "x = neural_net_image_input((32, 32, 3))\n",
    "y = neural_net_label_input(10)\n",
    "keep_prob = neural_net_keep_prob_input()\n",
    "\n",
    "# Model\n",
    "logits = conv_net(x, keep_prob)\n",
    "\n",
    "# Name logits Tensor, so that is can be loaded from disk after training\n",
    "logits = tf.identity(logits, name='logits')\n",
    "\n",
    "# Loss and Optimizer\n",
    "cost = tf.reduce_mean(tf.nn.softmax_cross_entropy_with_logits(logits=logits, labels=y))\n",
    "optimizer = tf.train.AdamOptimizer().minimize(cost)\n",
    "\n",
    "# Accuracy\n",
    "correct_pred = tf.equal(tf.argmax(logits, 1), tf.argmax(y, 1))\n",
    "accuracy = tf.reduce_mean(tf.cast(correct_pred, tf.float32), name='accuracy')\n",
    "\n",
    "tests.test_conv_net(conv_net)"
   ]
  },
  {
   "cell_type": "markdown",
   "metadata": {
    "deletable": true,
    "editable": true
   },
   "source": [
    "## Train the Neural Network\n",
    "### Single Optimization\n",
    "Implement the function `train_neural_network` to do a single optimization.  The optimization should use `optimizer` to optimize in `session` with a `feed_dict` of the following:\n",
    "* `x` for image input\n",
    "* `y` for labels\n",
    "* `keep_prob` for keep probability for dropout\n",
    "\n",
    "This function will be called for each batch, so `tf.global_variables_initializer()` has already been called.\n",
    "\n",
    "Note: Nothing needs to be returned. This function is only optimizing the neural network."
   ]
  },
  {
   "cell_type": "code",
   "execution_count": 8,
   "metadata": {
    "collapsed": false,
    "deletable": true,
    "editable": true
   },
   "outputs": [
    {
     "name": "stdout",
     "output_type": "stream",
     "text": [
      "Tests Passed\n"
     ]
    }
   ],
   "source": [
    "def train_neural_network(session, optimizer, keep_probability, feature_batch, label_batch):\n",
    "    \"\"\"\n",
    "    Optimize the session on a batch of images and labels\n",
    "    : session: Current TensorFlow session\n",
    "    : optimizer: TensorFlow optimizer function\n",
    "    : keep_probability: keep probability\n",
    "    : feature_batch: Batch of Numpy image data\n",
    "    : label_batch: Batch of Numpy label data\n",
    "    \"\"\"\n",
    "    # TODO: Implement Function\n",
    "    session.run(optimizer, feed_dict={x: feature_batch, y: label_batch, keep_prob: keep_probability})\n",
    "\n",
    "\n",
    "\"\"\"\n",
    "DON'T MODIFY ANYTHING IN THIS CELL THAT IS BELOW THIS LINE\n",
    "\"\"\"\n",
    "tests.test_train_nn(train_neural_network)"
   ]
  },
  {
   "cell_type": "markdown",
   "metadata": {
    "deletable": true,
    "editable": true
   },
   "source": [
    "### Show Stats\n",
    "Implement the function `print_stats` to print loss and validation accuracy.  Use the global variables `valid_features` and `valid_labels` to calculate validation accuracy.  Use a keep probability of `1.0` to calculate the loss and validation accuracy."
   ]
  },
  {
   "cell_type": "code",
   "execution_count": 9,
   "metadata": {
    "collapsed": true,
    "deletable": true,
    "editable": true
   },
   "outputs": [],
   "source": [
    "def print_stats(session, feature_batch, label_batch, cost, accuracy):\n",
    "    \"\"\"\n",
    "    Print information about loss and validation accuracy\n",
    "    : session: Current TensorFlow session\n",
    "    : feature_batch: Batch of Numpy image data\n",
    "    : label_batch: Batch of Numpy label data\n",
    "    : cost: TensorFlow cost function\n",
    "    : accuracy: TensorFlow accuracy function\n",
    "    \"\"\"\n",
    "    # TODO: Implement Function\n",
    "    cost = session.run(cost, feed_dict={x: feature_batch, y: label_batch, keep_prob: 1.0})\n",
    "    accuracy = session.run(accuracy, feed_dict={x: valid_features, y: valid_labels, keep_prob: 1.0})\n",
    "    print('Custo: ',cost, 'Precisão: ', accuracy)"
   ]
  },
  {
   "cell_type": "markdown",
   "metadata": {
    "deletable": true,
    "editable": true
   },
   "source": [
    "### Hyperparameters\n",
    "Tune the following parameters:\n",
    "* Set `epochs` to the number of iterations until the network stops learning or start overfitting\n",
    "* Set `batch_size` to the highest number that your machine has memory for.  Most people set them to common sizes of memory:\n",
    " * 64\n",
    " * 128\n",
    " * 256\n",
    " * ...\n",
    "* Set `keep_probability` to the probability of keeping a node using dropout"
   ]
  },
  {
   "cell_type": "code",
   "execution_count": 29,
   "metadata": {
    "collapsed": true,
    "deletable": true,
    "editable": true
   },
   "outputs": [],
   "source": [
    "# TODO: Tune Parameters\n",
    "epochs = 60\n",
    "batch_size = 1024\n",
    "keep_probability = 0.5"
   ]
  },
  {
   "cell_type": "markdown",
   "metadata": {
    "deletable": true,
    "editable": true
   },
   "source": [
    "### Train on a Single CIFAR-10 Batch\n",
    "Instead of training the neural network on all the CIFAR-10 batches of data, let's use a single batch. This should save time while you iterate on the model to get a better accuracy.  Once the final validation accuracy is 50% or greater, run the model on all the data in the next section."
   ]
  },
  {
   "cell_type": "code",
   "execution_count": 30,
   "metadata": {
    "collapsed": false,
    "deletable": true,
    "editable": true,
    "scrolled": true
   },
   "outputs": [
    {
     "name": "stdout",
     "output_type": "stream",
     "text": [
      "Checking the Training on a Single Batch...\n",
      "Epoch  1, CIFAR-10 Batch 1:  Custo:  2.28986 Precisão:  0.125\n",
      "Epoch  2, CIFAR-10 Batch 1:  Custo:  2.29189 Precisão:  0.171\n",
      "Epoch  3, CIFAR-10 Batch 1:  Custo:  2.26645 Precisão:  0.1958\n",
      "Epoch  4, CIFAR-10 Batch 1:  Custo:  2.18217 Precisão:  0.2282\n",
      "Epoch  5, CIFAR-10 Batch 1:  Custo:  2.0891 Precisão:  0.275\n",
      "Epoch  6, CIFAR-10 Batch 1:  Custo:  1.99322 Precisão:  0.3032\n",
      "Epoch  7, CIFAR-10 Batch 1:  Custo:  1.9031 Precisão:  0.3368\n",
      "Epoch  8, CIFAR-10 Batch 1:  Custo:  1.82359 Precisão:  0.373\n",
      "Epoch  9, CIFAR-10 Batch 1:  Custo:  1.73488 Precisão:  0.3856\n",
      "Epoch 10, CIFAR-10 Batch 1:  Custo:  1.68318 Precisão:  0.4112\n",
      "Epoch 11, CIFAR-10 Batch 1:  Custo:  1.61651 Precisão:  0.4054\n",
      "Epoch 12, CIFAR-10 Batch 1:  Custo:  1.55448 Precisão:  0.4152\n",
      "Epoch 13, CIFAR-10 Batch 1:  Custo:  1.52113 Precisão:  0.4378\n",
      "Epoch 14, CIFAR-10 Batch 1:  Custo:  1.44117 Precisão:  0.4484\n",
      "Epoch 15, CIFAR-10 Batch 1:  Custo:  1.39234 Precisão:  0.455\n",
      "Epoch 16, CIFAR-10 Batch 1:  Custo:  1.3402 Precisão:  0.4738\n",
      "Epoch 17, CIFAR-10 Batch 1:  Custo:  1.29362 Precisão:  0.4758\n",
      "Epoch 18, CIFAR-10 Batch 1:  Custo:  1.28366 Precisão:  0.478\n",
      "Epoch 19, CIFAR-10 Batch 1:  Custo:  1.24743 Precisão:  0.4916\n",
      "Epoch 20, CIFAR-10 Batch 1:  Custo:  1.1865 Precisão:  0.4982\n",
      "Epoch 21, CIFAR-10 Batch 1:  Custo:  1.16198 Precisão:  0.5044\n",
      "Epoch 22, CIFAR-10 Batch 1:  Custo:  1.10251 Precisão:  0.5034\n",
      "Epoch 23, CIFAR-10 Batch 1:  Custo:  1.07902 Precisão:  0.514\n",
      "Epoch 24, CIFAR-10 Batch 1:  Custo:  1.04164 Precisão:  0.5164\n",
      "Epoch 25, CIFAR-10 Batch 1:  Custo:  1.00548 Precisão:  0.5218\n",
      "Epoch 26, CIFAR-10 Batch 1:  Custo:  0.968729 Precisão:  0.5332\n",
      "Epoch 27, CIFAR-10 Batch 1:  Custo:  0.925429 Precisão:  0.5354\n",
      "Epoch 28, CIFAR-10 Batch 1:  Custo:  0.89605 Precisão:  0.538\n",
      "Epoch 29, CIFAR-10 Batch 1:  Custo:  0.852392 Precisão:  0.5362\n",
      "Epoch 30, CIFAR-10 Batch 1:  Custo:  0.82547 Precisão:  0.545\n",
      "Epoch 31, CIFAR-10 Batch 1:  Custo:  0.792879 Precisão:  0.5446\n",
      "Epoch 32, CIFAR-10 Batch 1:  Custo:  0.753479 Precisão:  0.5532\n",
      "Epoch 33, CIFAR-10 Batch 1:  Custo:  0.740144 Precisão:  0.5518\n",
      "Epoch 34, CIFAR-10 Batch 1:  Custo:  0.695162 Precisão:  0.5602\n",
      "Epoch 35, CIFAR-10 Batch 1:  Custo:  0.69073 Precisão:  0.5534\n",
      "Epoch 36, CIFAR-10 Batch 1:  Custo:  0.684209 Precisão:  0.5528\n",
      "Epoch 37, CIFAR-10 Batch 1:  Custo:  0.627479 Precisão:  0.566\n",
      "Epoch 38, CIFAR-10 Batch 1:  Custo:  0.594137 Precisão:  0.5606\n",
      "Epoch 39, CIFAR-10 Batch 1:  Custo:  0.573496 Precisão:  0.562\n",
      "Epoch 40, CIFAR-10 Batch 1:  Custo:  0.572369 Precisão:  0.5544\n",
      "Epoch 41, CIFAR-10 Batch 1:  Custo:  0.521424 Precisão:  0.5624\n",
      "Epoch 42, CIFAR-10 Batch 1:  Custo:  0.4882 Precisão:  0.5702\n",
      "Epoch 43, CIFAR-10 Batch 1:  Custo:  0.479146 Precisão:  0.5624\n",
      "Epoch 44, CIFAR-10 Batch 1:  Custo:  0.439828 Precisão:  0.5692\n",
      "Epoch 45, CIFAR-10 Batch 1:  Custo:  0.430739 Precisão:  0.5686\n",
      "Epoch 46, CIFAR-10 Batch 1:  Custo:  0.412546 Precisão:  0.5708\n",
      "Epoch 47, CIFAR-10 Batch 1:  Custo:  0.380825 Precisão:  0.567\n",
      "Epoch 48, CIFAR-10 Batch 1:  Custo:  0.381678 Precisão:  0.5732\n",
      "Epoch 49, CIFAR-10 Batch 1:  Custo:  0.349066 Precisão:  0.5774\n",
      "Epoch 50, CIFAR-10 Batch 1:  Custo:  0.341871 Precisão:  0.571\n",
      "Epoch 51, CIFAR-10 Batch 1:  Custo:  0.310178 Precisão:  0.577\n",
      "Epoch 52, CIFAR-10 Batch 1:  Custo:  0.286796 Precisão:  0.5746\n",
      "Epoch 53, CIFAR-10 Batch 1:  Custo:  0.274245 Precisão:  0.5746\n",
      "Epoch 54, CIFAR-10 Batch 1:  Custo:  0.263026 Precisão:  0.5806\n",
      "Epoch 55, CIFAR-10 Batch 1:  Custo:  0.23197 Precisão:  0.5776\n",
      "Epoch 56, CIFAR-10 Batch 1:  Custo:  0.236299 Precisão:  0.5736\n",
      "Epoch 57, CIFAR-10 Batch 1:  Custo:  0.206828 Precisão:  0.5848\n",
      "Epoch 58, CIFAR-10 Batch 1:  Custo:  0.19993 Precisão:  0.5856\n",
      "Epoch 59, CIFAR-10 Batch 1:  Custo:  0.195613 Precisão:  0.5708\n",
      "Epoch 60, CIFAR-10 Batch 1:  Custo:  0.183342 Precisão:  0.579\n"
     ]
    }
   ],
   "source": [
    "\"\"\"\n",
    "DON'T MODIFY ANYTHING IN THIS CELL\n",
    "\"\"\"\n",
    "print('Checking the Training on a Single Batch...')\n",
    "with tf.Session() as sess:\n",
    "    # Initializing the variables\n",
    "    sess.run(tf.global_variables_initializer())\n",
    "    \n",
    "    # Training cycle\n",
    "    for epoch in range(epochs):\n",
    "        batch_i = 1\n",
    "        for batch_features, batch_labels in helper.load_preprocess_training_batch(batch_i, batch_size):\n",
    "            train_neural_network(sess, optimizer, keep_probability, batch_features, batch_labels)\n",
    "        print('Epoch {:>2}, CIFAR-10 Batch {}:  '.format(epoch + 1, batch_i), end='')\n",
    "        print_stats(sess, batch_features, batch_labels, cost, accuracy)"
   ]
  },
  {
   "cell_type": "markdown",
   "metadata": {
    "deletable": true,
    "editable": true
   },
   "source": [
    "### Fully Train the Model\n",
    "Now that you got a good accuracy with a single CIFAR-10 batch, try it with all five batches."
   ]
  },
  {
   "cell_type": "code",
   "execution_count": 31,
   "metadata": {
    "collapsed": false,
    "deletable": true,
    "editable": true
   },
   "outputs": [
    {
     "name": "stdout",
     "output_type": "stream",
     "text": [
      "Training...\n",
      "Epoch  1, CIFAR-10 Batch 1:  Custo:  2.30066 Precisão:  0.1058\n",
      "Epoch  1, CIFAR-10 Batch 2:  Custo:  2.30076 Precisão:  0.1182\n",
      "Epoch  1, CIFAR-10 Batch 3:  Custo:  2.2979 Precisão:  0.1188\n",
      "Epoch  1, CIFAR-10 Batch 4:  Custo:  2.26213 Precisão:  0.1832\n",
      "Epoch  1, CIFAR-10 Batch 5:  Custo:  2.19176 Precisão:  0.1792\n",
      "Epoch  2, CIFAR-10 Batch 1:  Custo:  2.15691 Precisão:  0.2012\n",
      "Epoch  2, CIFAR-10 Batch 2:  Custo:  2.05124 Precisão:  0.252\n",
      "Epoch  2, CIFAR-10 Batch 3:  Custo:  1.98256 Precisão:  0.3004\n",
      "Epoch  2, CIFAR-10 Batch 4:  Custo:  1.91005 Precisão:  0.3422\n",
      "Epoch  2, CIFAR-10 Batch 5:  Custo:  1.84521 Precisão:  0.3586\n",
      "Epoch  3, CIFAR-10 Batch 1:  Custo:  1.77362 Precisão:  0.39\n",
      "Epoch  3, CIFAR-10 Batch 2:  Custo:  1.70744 Precisão:  0.403\n",
      "Epoch  3, CIFAR-10 Batch 3:  Custo:  1.65103 Precisão:  0.4152\n",
      "Epoch  3, CIFAR-10 Batch 4:  Custo:  1.59382 Precisão:  0.4268\n",
      "Epoch  3, CIFAR-10 Batch 5:  Custo:  1.57941 Precisão:  0.4322\n",
      "Epoch  4, CIFAR-10 Batch 1:  Custo:  1.52938 Precisão:  0.4468\n",
      "Epoch  4, CIFAR-10 Batch 2:  Custo:  1.52991 Precisão:  0.449\n",
      "Epoch  4, CIFAR-10 Batch 3:  Custo:  1.41615 Precisão:  0.4626\n",
      "Epoch  4, CIFAR-10 Batch 4:  Custo:  1.41531 Precisão:  0.4762\n",
      "Epoch  4, CIFAR-10 Batch 5:  Custo:  1.42732 Precisão:  0.4756\n",
      "Epoch  5, CIFAR-10 Batch 1:  Custo:  1.37261 Precisão:  0.4882\n",
      "Epoch  5, CIFAR-10 Batch 2:  Custo:  1.37235 Precisão:  0.498\n",
      "Epoch  5, CIFAR-10 Batch 3:  Custo:  1.31197 Precisão:  0.4952\n",
      "Epoch  5, CIFAR-10 Batch 4:  Custo:  1.31256 Precisão:  0.502\n",
      "Epoch  5, CIFAR-10 Batch 5:  Custo:  1.30994 Precisão:  0.5096\n",
      "Epoch  6, CIFAR-10 Batch 1:  Custo:  1.27735 Precisão:  0.518\n",
      "Epoch  6, CIFAR-10 Batch 2:  Custo:  1.30011 Precisão:  0.5156\n",
      "Epoch  6, CIFAR-10 Batch 3:  Custo:  1.22697 Precisão:  0.5254\n",
      "Epoch  6, CIFAR-10 Batch 4:  Custo:  1.24513 Precisão:  0.5342\n",
      "Epoch  6, CIFAR-10 Batch 5:  Custo:  1.21288 Precisão:  0.5398\n",
      "Epoch  7, CIFAR-10 Batch 1:  Custo:  1.22234 Precisão:  0.5468\n",
      "Epoch  7, CIFAR-10 Batch 2:  Custo:  1.20922 Precisão:  0.5524\n",
      "Epoch  7, CIFAR-10 Batch 3:  Custo:  1.14603 Precisão:  0.5492\n",
      "Epoch  7, CIFAR-10 Batch 4:  Custo:  1.16074 Precisão:  0.558\n",
      "Epoch  7, CIFAR-10 Batch 5:  Custo:  1.12252 Precisão:  0.5656\n",
      "Epoch  8, CIFAR-10 Batch 1:  Custo:  1.16887 Precisão:  0.5504\n",
      "Epoch  8, CIFAR-10 Batch 2:  Custo:  1.14687 Precisão:  0.565\n",
      "Epoch  8, CIFAR-10 Batch 3:  Custo:  1.07377 Precisão:  0.5712\n",
      "Epoch  8, CIFAR-10 Batch 4:  Custo:  1.08547 Precisão:  0.5698\n",
      "Epoch  8, CIFAR-10 Batch 5:  Custo:  1.04457 Precisão:  0.5816\n",
      "Epoch  9, CIFAR-10 Batch 1:  Custo:  1.08303 Precisão:  0.5856\n",
      "Epoch  9, CIFAR-10 Batch 2:  Custo:  1.06226 Precisão:  0.5766\n",
      "Epoch  9, CIFAR-10 Batch 3:  Custo:  1.02092 Precisão:  0.5816\n",
      "Epoch  9, CIFAR-10 Batch 4:  Custo:  1.0332 Precisão:  0.5858\n",
      "Epoch  9, CIFAR-10 Batch 5:  Custo:  0.992812 Precisão:  0.5932\n",
      "Epoch 10, CIFAR-10 Batch 1:  Custo:  1.03773 Precisão:  0.5956\n",
      "Epoch 10, CIFAR-10 Batch 2:  Custo:  0.99709 Precisão:  0.595\n",
      "Epoch 10, CIFAR-10 Batch 3:  Custo:  0.967128 Precisão:  0.5908\n",
      "Epoch 10, CIFAR-10 Batch 4:  Custo:  0.972222 Precisão:  0.6038\n",
      "Epoch 10, CIFAR-10 Batch 5:  Custo:  0.931349 Precisão:  0.5936\n",
      "Epoch 11, CIFAR-10 Batch 1:  Custo:  0.99884 Precisão:  0.5918\n",
      "Epoch 11, CIFAR-10 Batch 2:  Custo:  0.960435 Precisão:  0.598\n",
      "Epoch 11, CIFAR-10 Batch 3:  Custo:  0.936773 Precisão:  0.5986\n",
      "Epoch 11, CIFAR-10 Batch 4:  Custo:  0.938533 Precisão:  0.5956\n",
      "Epoch 11, CIFAR-10 Batch 5:  Custo:  0.887527 Precisão:  0.6106\n",
      "Epoch 12, CIFAR-10 Batch 1:  Custo:  0.962131 Precisão:  0.6148\n",
      "Epoch 12, CIFAR-10 Batch 2:  Custo:  0.935752 Precisão:  0.6048\n",
      "Epoch 12, CIFAR-10 Batch 3:  Custo:  0.925304 Precisão:  0.5964\n",
      "Epoch 12, CIFAR-10 Batch 4:  Custo:  0.924055 Precisão:  0.6016\n",
      "Epoch 12, CIFAR-10 Batch 5:  Custo:  0.880183 Precisão:  0.6042\n",
      "Epoch 13, CIFAR-10 Batch 1:  Custo:  0.931507 Precisão:  0.6188\n",
      "Epoch 13, CIFAR-10 Batch 2:  Custo:  0.899605 Precisão:  0.6212\n",
      "Epoch 13, CIFAR-10 Batch 3:  Custo:  0.882562 Precisão:  0.6042\n",
      "Epoch 13, CIFAR-10 Batch 4:  Custo:  0.858891 Precisão:  0.622\n",
      "Epoch 13, CIFAR-10 Batch 5:  Custo:  0.804703 Precisão:  0.6182\n",
      "Epoch 14, CIFAR-10 Batch 1:  Custo:  0.884697 Precisão:  0.6226\n",
      "Epoch 14, CIFAR-10 Batch 2:  Custo:  0.845069 Precisão:  0.6212\n",
      "Epoch 14, CIFAR-10 Batch 3:  Custo:  0.823271 Precisão:  0.6234\n",
      "Epoch 14, CIFAR-10 Batch 4:  Custo:  0.822076 Precisão:  0.6276\n",
      "Epoch 14, CIFAR-10 Batch 5:  Custo:  0.76928 Precisão:  0.6242\n",
      "Epoch 15, CIFAR-10 Batch 1:  Custo:  0.848203 Precisão:  0.632\n",
      "Epoch 15, CIFAR-10 Batch 2:  Custo:  0.806315 Precisão:  0.625\n",
      "Epoch 15, CIFAR-10 Batch 3:  Custo:  0.782335 Precisão:  0.6234\n",
      "Epoch 15, CIFAR-10 Batch 4:  Custo:  0.775347 Precisão:  0.638\n",
      "Epoch 15, CIFAR-10 Batch 5:  Custo:  0.745473 Precisão:  0.6256\n",
      "Epoch 16, CIFAR-10 Batch 1:  Custo:  0.836533 Precisão:  0.629\n",
      "Epoch 16, CIFAR-10 Batch 2:  Custo:  0.766194 Precisão:  0.6336\n",
      "Epoch 16, CIFAR-10 Batch 3:  Custo:  0.738496 Precisão:  0.6398\n",
      "Epoch 16, CIFAR-10 Batch 4:  Custo:  0.788469 Precisão:  0.623\n",
      "Epoch 16, CIFAR-10 Batch 5:  Custo:  0.68995 Precisão:  0.6398\n",
      "Epoch 17, CIFAR-10 Batch 1:  Custo:  0.766021 Precisão:  0.643\n",
      "Epoch 17, CIFAR-10 Batch 2:  Custo:  0.731727 Precisão:  0.6478\n",
      "Epoch 17, CIFAR-10 Batch 3:  Custo:  0.688021 Precisão:  0.6444\n",
      "Epoch 17, CIFAR-10 Batch 4:  Custo:  0.725044 Precisão:  0.6362\n",
      "Epoch 17, CIFAR-10 Batch 5:  Custo:  0.652639 Precisão:  0.6424\n",
      "Epoch 18, CIFAR-10 Batch 1:  Custo:  0.72595 Precisão:  0.6402\n",
      "Epoch 18, CIFAR-10 Batch 2:  Custo:  0.705818 Precisão:  0.6462\n",
      "Epoch 18, CIFAR-10 Batch 3:  Custo:  0.643771 Precisão:  0.6554\n",
      "Epoch 18, CIFAR-10 Batch 4:  Custo:  0.694447 Precisão:  0.6452\n",
      "Epoch 18, CIFAR-10 Batch 5:  Custo:  0.633857 Precisão:  0.644\n",
      "Epoch 19, CIFAR-10 Batch 1:  Custo:  0.722576 Precisão:  0.6392\n",
      "Epoch 19, CIFAR-10 Batch 2:  Custo:  0.659835 Precisão:  0.6518\n",
      "Epoch 19, CIFAR-10 Batch 3:  Custo:  0.625182 Precisão:  0.655\n",
      "Epoch 19, CIFAR-10 Batch 4:  Custo:  0.652299 Precisão:  0.6532\n",
      "Epoch 19, CIFAR-10 Batch 5:  Custo:  0.589582 Precisão:  0.647\n",
      "Epoch 20, CIFAR-10 Batch 1:  Custo:  0.678938 Precisão:  0.6436\n",
      "Epoch 20, CIFAR-10 Batch 2:  Custo:  0.645919 Precisão:  0.653\n",
      "Epoch 20, CIFAR-10 Batch 3:  Custo:  0.595335 Precisão:  0.657\n",
      "Epoch 20, CIFAR-10 Batch 4:  Custo:  0.611815 Precisão:  0.6488\n",
      "Epoch 20, CIFAR-10 Batch 5:  Custo:  0.561083 Precisão:  0.6554\n",
      "Epoch 21, CIFAR-10 Batch 1:  Custo:  0.634311 Precisão:  0.6552\n",
      "Epoch 21, CIFAR-10 Batch 2:  Custo:  0.593757 Precisão:  0.6516\n",
      "Epoch 21, CIFAR-10 Batch 3:  Custo:  0.590323 Precisão:  0.6568\n",
      "Epoch 21, CIFAR-10 Batch 4:  Custo:  0.575762 Precisão:  0.651\n",
      "Epoch 21, CIFAR-10 Batch 5:  Custo:  0.539 Precisão:  0.649\n",
      "Epoch 22, CIFAR-10 Batch 1:  Custo:  0.616499 Precisão:  0.6384\n",
      "Epoch 22, CIFAR-10 Batch 2:  Custo:  0.608844 Precisão:  0.6516\n",
      "Epoch 22, CIFAR-10 Batch 3:  Custo:  0.560131 Precisão:  0.6608\n",
      "Epoch 22, CIFAR-10 Batch 4:  Custo:  0.555032 Precisão:  0.6528\n",
      "Epoch 22, CIFAR-10 Batch 5:  Custo:  0.504447 Precisão:  0.656\n",
      "Epoch 23, CIFAR-10 Batch 1:  Custo:  0.605479 Precisão:  0.6424\n",
      "Epoch 23, CIFAR-10 Batch 2:  Custo:  0.592207 Precisão:  0.6416\n",
      "Epoch 23, CIFAR-10 Batch 3:  Custo:  0.542278 Precisão:  0.657\n",
      "Epoch 23, CIFAR-10 Batch 4:  Custo:  0.549062 Precisão:  0.6568\n",
      "Epoch 23, CIFAR-10 Batch 5:  Custo:  0.489668 Precisão:  0.6492\n",
      "Epoch 24, CIFAR-10 Batch 1:  Custo:  0.572911 Precisão:  0.6592\n",
      "Epoch 24, CIFAR-10 Batch 2:  Custo:  0.548715 Precisão:  0.6456\n",
      "Epoch 24, CIFAR-10 Batch 3:  Custo:  0.498546 Precisão:  0.6614\n",
      "Epoch 24, CIFAR-10 Batch 4:  Custo:  0.515568 Precisão:  0.6574\n",
      "Epoch 24, CIFAR-10 Batch 5:  Custo:  0.475428 Precisão:  0.6546\n",
      "Epoch 25, CIFAR-10 Batch 1:  Custo:  0.557884 Precisão:  0.652\n",
      "Epoch 25, CIFAR-10 Batch 2:  Custo:  0.50557 Precisão:  0.6546\n",
      "Epoch 25, CIFAR-10 Batch 3:  Custo:  0.48704 Precisão:  0.6642\n",
      "Epoch 25, CIFAR-10 Batch 4:  Custo:  0.463639 Precisão:  0.6724\n",
      "Epoch 25, CIFAR-10 Batch 5:  Custo:  0.434757 Precisão:  0.6628\n",
      "Epoch 26, CIFAR-10 Batch 1:  Custo:  0.502935 Precisão:  0.661\n",
      "Epoch 26, CIFAR-10 Batch 2:  Custo:  0.487024 Precisão:  0.653\n",
      "Epoch 26, CIFAR-10 Batch 3:  Custo:  0.449367 Precisão:  0.6682\n",
      "Epoch 26, CIFAR-10 Batch 4:  Custo:  0.454174 Precisão:  0.6664\n",
      "Epoch 26, CIFAR-10 Batch 5:  Custo:  0.430721 Precisão:  0.6546\n",
      "Epoch 27, CIFAR-10 Batch 1:  Custo:  0.482576 Precisão:  0.6626\n",
      "Epoch 27, CIFAR-10 Batch 2:  Custo:  0.457822 Precisão:  0.659\n",
      "Epoch 27, CIFAR-10 Batch 3:  Custo:  0.429785 Precisão:  0.667\n",
      "Epoch 27, CIFAR-10 Batch 4:  Custo:  0.427987 Precisão:  0.6728\n",
      "Epoch 27, CIFAR-10 Batch 5:  Custo:  0.415134 Precisão:  0.6636\n",
      "Epoch 28, CIFAR-10 Batch 1:  Custo:  0.457926 Precisão:  0.6646\n",
      "Epoch 28, CIFAR-10 Batch 2:  Custo:  0.451544 Precisão:  0.6508\n",
      "Epoch 28, CIFAR-10 Batch 3:  Custo:  0.427545 Precisão:  0.659\n",
      "Epoch 28, CIFAR-10 Batch 4:  Custo:  0.412204 Precisão:  0.6646\n",
      "Epoch 28, CIFAR-10 Batch 5:  Custo:  0.372767 Precisão:  0.6666\n",
      "Epoch 29, CIFAR-10 Batch 1:  Custo:  0.448672 Precisão:  0.6598\n",
      "Epoch 29, CIFAR-10 Batch 2:  Custo:  0.410183 Precisão:  0.6678\n",
      "Epoch 29, CIFAR-10 Batch 3:  Custo:  0.4214 Precisão:  0.645\n",
      "Epoch 29, CIFAR-10 Batch 4:  Custo:  0.436745 Precisão:  0.643\n",
      "Epoch 29, CIFAR-10 Batch 5:  Custo:  0.387054 Precisão:  0.6532\n",
      "Epoch 30, CIFAR-10 Batch 1:  Custo:  0.423484 Precisão:  0.6594\n",
      "Epoch 30, CIFAR-10 Batch 2:  Custo:  0.394947 Precisão:  0.6622\n",
      "Epoch 30, CIFAR-10 Batch 3:  Custo:  0.386887 Precisão:  0.656\n",
      "Epoch 30, CIFAR-10 Batch 4:  Custo:  0.376627 Precisão:  0.6588\n",
      "Epoch 30, CIFAR-10 Batch 5:  Custo:  0.37721 Precisão:  0.6534\n",
      "Epoch 31, CIFAR-10 Batch 1:  Custo:  0.418077 Precisão:  0.6594\n",
      "Epoch 31, CIFAR-10 Batch 2:  Custo:  0.381452 Precisão:  0.6604\n",
      "Epoch 31, CIFAR-10 Batch 3:  Custo:  0.356322 Precisão:  0.661\n",
      "Epoch 31, CIFAR-10 Batch 4:  Custo:  0.370607 Precisão:  0.6556\n",
      "Epoch 31, CIFAR-10 Batch 5:  Custo:  0.35141 Precisão:  0.653\n",
      "Epoch 32, CIFAR-10 Batch 1:  Custo:  0.399121 Precisão:  0.6656\n",
      "Epoch 32, CIFAR-10 Batch 2:  Custo:  0.351889 Precisão:  0.6682\n",
      "Epoch 32, CIFAR-10 Batch 3:  Custo:  0.336189 Precisão:  0.6678\n",
      "Epoch 32, CIFAR-10 Batch 4:  Custo:  0.336901 Precisão:  0.6562\n",
      "Epoch 32, CIFAR-10 Batch 5:  Custo:  0.323378 Precisão:  0.655\n",
      "Epoch 33, CIFAR-10 Batch 1:  Custo:  0.3613 Precisão:  0.6694\n",
      "Epoch 33, CIFAR-10 Batch 2:  Custo:  0.338684 Precisão:  0.6676\n",
      "Epoch 33, CIFAR-10 Batch 3:  Custo:  0.335113 Precisão:  0.6654\n",
      "Epoch 33, CIFAR-10 Batch 4:  Custo:  0.31031 Precisão:  0.6646\n",
      "Epoch 33, CIFAR-10 Batch 5:  Custo:  0.290249 Precisão:  0.6606\n",
      "Epoch 34, CIFAR-10 Batch 1:  Custo:  0.344764 Precisão:  0.6676\n",
      "Epoch 34, CIFAR-10 Batch 2:  Custo:  0.32298 Precisão:  0.6612\n",
      "Epoch 34, CIFAR-10 Batch 3:  Custo:  0.305253 Precisão:  0.6688\n",
      "Epoch 34, CIFAR-10 Batch 4:  Custo:  0.308195 Precisão:  0.6648\n",
      "Epoch 34, CIFAR-10 Batch 5:  Custo:  0.282851 Precisão:  0.666\n",
      "Epoch 35, CIFAR-10 Batch 1:  Custo:  0.321576 Precisão:  0.6752\n",
      "Epoch 35, CIFAR-10 Batch 2:  Custo:  0.297335 Precisão:  0.6726\n",
      "Epoch 35, CIFAR-10 Batch 3:  Custo:  0.285822 Precisão:  0.6672\n",
      "Epoch 35, CIFAR-10 Batch 4:  Custo:  0.301832 Precisão:  0.6594\n",
      "Epoch 35, CIFAR-10 Batch 5:  Custo:  0.274482 Precisão:  0.6606\n",
      "Epoch 36, CIFAR-10 Batch 1:  Custo:  0.316932 Precisão:  0.6716\n",
      "Epoch 36, CIFAR-10 Batch 2:  Custo:  0.293008 Precisão:  0.675\n",
      "Epoch 36, CIFAR-10 Batch 3:  Custo:  0.270105 Precisão:  0.6684\n",
      "Epoch 36, CIFAR-10 Batch 4:  Custo:  0.268724 Precisão:  0.6632\n",
      "Epoch 36, CIFAR-10 Batch 5:  Custo:  0.247108 Precisão:  0.6632\n",
      "Epoch 37, CIFAR-10 Batch 1:  Custo:  0.287246 Precisão:  0.6726\n",
      "Epoch 37, CIFAR-10 Batch 2:  Custo:  0.268095 Precisão:  0.6738\n",
      "Epoch 37, CIFAR-10 Batch 3:  Custo:  0.247306 Precisão:  0.67\n",
      "Epoch 37, CIFAR-10 Batch 4:  Custo:  0.244057 Precisão:  0.668\n",
      "Epoch 37, CIFAR-10 Batch 5:  Custo:  0.21712 Precisão:  0.6728\n",
      "Epoch 38, CIFAR-10 Batch 1:  Custo:  0.264034 Precisão:  0.6776\n",
      "Epoch 38, CIFAR-10 Batch 2:  Custo:  0.250715 Precisão:  0.669\n",
      "Epoch 38, CIFAR-10 Batch 3:  Custo:  0.245463 Precisão:  0.6672\n",
      "Epoch 38, CIFAR-10 Batch 4:  Custo:  0.231238 Precisão:  0.6686\n",
      "Epoch 38, CIFAR-10 Batch 5:  Custo:  0.223538 Precisão:  0.661\n",
      "Epoch 39, CIFAR-10 Batch 1:  Custo:  0.272264 Precisão:  0.6724\n",
      "Epoch 39, CIFAR-10 Batch 2:  Custo:  0.242573 Precisão:  0.6666\n",
      "Epoch 39, CIFAR-10 Batch 3:  Custo:  0.236793 Precisão:  0.6654\n",
      "Epoch 39, CIFAR-10 Batch 4:  Custo:  0.230727 Precisão:  0.6606\n",
      "Epoch 39, CIFAR-10 Batch 5:  Custo:  0.194856 Precisão:  0.6724\n",
      "Epoch 40, CIFAR-10 Batch 1:  Custo:  0.262256 Precisão:  0.663\n",
      "Epoch 40, CIFAR-10 Batch 2:  Custo:  0.25316 Precisão:  0.666\n",
      "Epoch 40, CIFAR-10 Batch 3:  Custo:  0.213318 Precisão:  0.6734\n",
      "Epoch 40, CIFAR-10 Batch 4:  Custo:  0.225281 Precisão:  0.659\n",
      "Epoch 40, CIFAR-10 Batch 5:  Custo:  0.217709 Precisão:  0.6606\n",
      "Epoch 41, CIFAR-10 Batch 1:  Custo:  0.264342 Precisão:  0.6598\n",
      "Epoch 41, CIFAR-10 Batch 2:  Custo:  0.254917 Precisão:  0.6608\n",
      "Epoch 41, CIFAR-10 Batch 3:  Custo:  0.233149 Precisão:  0.667\n",
      "Epoch 41, CIFAR-10 Batch 4:  Custo:  0.229156 Precisão:  0.6642\n",
      "Epoch 41, CIFAR-10 Batch 5:  Custo:  0.206899 Precisão:  0.6532\n",
      "Epoch 42, CIFAR-10 Batch 1:  Custo:  0.24356 Precisão:  0.6694\n",
      "Epoch 42, CIFAR-10 Batch 2:  Custo:  0.229327 Precisão:  0.6706\n",
      "Epoch 42, CIFAR-10 Batch 3:  Custo:  0.244228 Precisão:  0.654\n",
      "Epoch 42, CIFAR-10 Batch 4:  Custo:  0.211802 Precisão:  0.6604\n",
      "Epoch 42, CIFAR-10 Batch 5:  Custo:  0.1865 Precisão:  0.6644\n",
      "Epoch 43, CIFAR-10 Batch 1:  Custo:  0.241913 Precisão:  0.664\n",
      "Epoch 43, CIFAR-10 Batch 2:  Custo:  0.224683 Precisão:  0.668\n",
      "Epoch 43, CIFAR-10 Batch 3:  Custo:  0.208347 Precisão:  0.658\n",
      "Epoch 43, CIFAR-10 Batch 4:  Custo:  0.200567 Precisão:  0.6626\n",
      "Epoch 43, CIFAR-10 Batch 5:  Custo:  0.171959 Precisão:  0.6616\n",
      "Epoch 44, CIFAR-10 Batch 1:  Custo:  0.204462 Precisão:  0.6696\n",
      "Epoch 44, CIFAR-10 Batch 2:  Custo:  0.206685 Precisão:  0.6678\n",
      "Epoch 44, CIFAR-10 Batch 3:  Custo:  0.189261 Precisão:  0.6682\n",
      "Epoch 44, CIFAR-10 Batch 4:  Custo:  0.200944 Precisão:  0.649\n",
      "Epoch 44, CIFAR-10 Batch 5:  Custo:  0.15535 Precisão:  0.6734\n",
      "Epoch 45, CIFAR-10 Batch 1:  Custo:  0.205083 Precisão:  0.6686\n",
      "Epoch 45, CIFAR-10 Batch 2:  Custo:  0.199193 Precisão:  0.6718\n",
      "Epoch 45, CIFAR-10 Batch 3:  Custo:  0.165514 Precisão:  0.6746\n",
      "Epoch 45, CIFAR-10 Batch 4:  Custo:  0.170979 Precisão:  0.6648\n",
      "Epoch 45, CIFAR-10 Batch 5:  Custo:  0.146519 Precisão:  0.6736\n",
      "Epoch 46, CIFAR-10 Batch 1:  Custo:  0.18769 Precisão:  0.6674\n",
      "Epoch 46, CIFAR-10 Batch 2:  Custo:  0.183404 Precisão:  0.6746\n",
      "Epoch 46, CIFAR-10 Batch 3:  Custo:  0.14536 Precisão:  0.684\n",
      "Epoch 46, CIFAR-10 Batch 4:  Custo:  0.169434 Precisão:  0.662\n",
      "Epoch 46, CIFAR-10 Batch 5:  Custo:  0.131063 Precisão:  0.673\n",
      "Epoch 47, CIFAR-10 Batch 1:  Custo:  0.185004 Precisão:  0.6702\n",
      "Epoch 47, CIFAR-10 Batch 2:  Custo:  0.186202 Precisão:  0.6726\n",
      "Epoch 47, CIFAR-10 Batch 3:  Custo:  0.164221 Precisão:  0.6692\n",
      "Epoch 47, CIFAR-10 Batch 4:  Custo:  0.151612 Precisão:  0.6652\n",
      "Epoch 47, CIFAR-10 Batch 5:  Custo:  0.122654 Precisão:  0.673\n",
      "Epoch 48, CIFAR-10 Batch 1:  Custo:  0.173272 Precisão:  0.6712\n",
      "Epoch 48, CIFAR-10 Batch 2:  Custo:  0.174996 Precisão:  0.6738\n",
      "Epoch 48, CIFAR-10 Batch 3:  Custo:  0.150237 Precisão:  0.6774\n",
      "Epoch 48, CIFAR-10 Batch 4:  Custo:  0.144661 Precisão:  0.6648\n",
      "Epoch 48, CIFAR-10 Batch 5:  Custo:  0.11035 Precisão:  0.6754\n",
      "Epoch 49, CIFAR-10 Batch 1:  Custo:  0.159502 Precisão:  0.6732\n",
      "Epoch 49, CIFAR-10 Batch 2:  Custo:  0.16959 Precisão:  0.669\n",
      "Epoch 49, CIFAR-10 Batch 3:  Custo:  0.154397 Precisão:  0.6744\n",
      "Epoch 49, CIFAR-10 Batch 4:  Custo:  0.161381 Precisão:  0.6628\n",
      "Epoch 49, CIFAR-10 Batch 5:  Custo:  0.111553 Precisão:  0.6728\n",
      "Epoch 50, CIFAR-10 Batch 1:  Custo:  0.159148 Precisão:  0.6716\n",
      "Epoch 50, CIFAR-10 Batch 2:  Custo:  0.16144 Precisão:  0.663\n",
      "Epoch 50, CIFAR-10 Batch 3:  Custo:  0.133359 Precisão:  0.6736\n",
      "Epoch 50, CIFAR-10 Batch 4:  Custo:  0.118661 Precisão:  0.671\n",
      "Epoch 50, CIFAR-10 Batch 5:  Custo:  0.098258 Precisão:  0.6748\n",
      "Epoch 51, CIFAR-10 Batch 1:  Custo:  0.13615 Precisão:  0.672\n",
      "Epoch 51, CIFAR-10 Batch 2:  Custo:  0.143085 Precisão:  0.6658\n",
      "Epoch 51, CIFAR-10 Batch 3:  Custo:  0.129579 Precisão:  0.676\n",
      "Epoch 51, CIFAR-10 Batch 4:  Custo:  0.108453 Precisão:  0.6742\n",
      "Epoch 51, CIFAR-10 Batch 5:  Custo:  0.0883947 Precisão:  0.6788\n",
      "Epoch 52, CIFAR-10 Batch 1:  Custo:  0.12076 Precisão:  0.6772\n",
      "Epoch 52, CIFAR-10 Batch 2:  Custo:  0.129972 Precisão:  0.6686\n",
      "Epoch 52, CIFAR-10 Batch 3:  Custo:  0.119272 Precisão:  0.6768\n",
      "Epoch 52, CIFAR-10 Batch 4:  Custo:  0.102413 Precisão:  0.6666\n",
      "Epoch 52, CIFAR-10 Batch 5:  Custo:  0.0805603 Precisão:  0.6776\n",
      "Epoch 53, CIFAR-10 Batch 1:  Custo:  0.119217 Precisão:  0.673\n",
      "Epoch 53, CIFAR-10 Batch 2:  Custo:  0.124894 Precisão:  0.6692\n",
      "Epoch 53, CIFAR-10 Batch 3:  Custo:  0.109868 Precisão:  0.6768\n",
      "Epoch 53, CIFAR-10 Batch 4:  Custo:  0.0969853 Precisão:  0.6678\n",
      "Epoch 53, CIFAR-10 Batch 5:  Custo:  0.0715115 Precisão:  0.6748\n",
      "Epoch 54, CIFAR-10 Batch 1:  Custo:  0.122457 Precisão:  0.6682\n",
      "Epoch 54, CIFAR-10 Batch 2:  Custo:  0.113392 Precisão:  0.662\n",
      "Epoch 54, CIFAR-10 Batch 3:  Custo:  0.0993423 Precisão:  0.6786\n",
      "Epoch 54, CIFAR-10 Batch 4:  Custo:  0.0911968 Precisão:  0.6686\n",
      "Epoch 54, CIFAR-10 Batch 5:  Custo:  0.0698541 Precisão:  0.6722\n",
      "Epoch 55, CIFAR-10 Batch 1:  Custo:  0.10243 Precisão:  0.6758\n",
      "Epoch 55, CIFAR-10 Batch 2:  Custo:  0.104409 Precisão:  0.6692\n",
      "Epoch 55, CIFAR-10 Batch 3:  Custo:  0.0887676 Precisão:  0.6736\n",
      "Epoch 55, CIFAR-10 Batch 4:  Custo:  0.0919772 Precisão:  0.6672\n",
      "Epoch 55, CIFAR-10 Batch 5:  Custo:  0.0630814 Precisão:  0.6766\n",
      "Epoch 56, CIFAR-10 Batch 1:  Custo:  0.10135 Precisão:  0.671\n",
      "Epoch 56, CIFAR-10 Batch 2:  Custo:  0.0947421 Precisão:  0.6698\n",
      "Epoch 56, CIFAR-10 Batch 3:  Custo:  0.0817368 Precisão:  0.6812\n",
      "Epoch 56, CIFAR-10 Batch 4:  Custo:  0.0830286 Precisão:  0.6646\n",
      "Epoch 56, CIFAR-10 Batch 5:  Custo:  0.0609244 Precisão:  0.6796\n",
      "Epoch 57, CIFAR-10 Batch 1:  Custo:  0.0987491 Precisão:  0.678\n",
      "Epoch 57, CIFAR-10 Batch 2:  Custo:  0.0914985 Precisão:  0.67\n",
      "Epoch 57, CIFAR-10 Batch 3:  Custo:  0.0819455 Precisão:  0.6776\n",
      "Epoch 57, CIFAR-10 Batch 4:  Custo:  0.0811279 Precisão:  0.6668\n",
      "Epoch 57, CIFAR-10 Batch 5:  Custo:  0.0583739 Precisão:  0.6788\n",
      "Epoch 58, CIFAR-10 Batch 1:  Custo:  0.102747 Precisão:  0.6678\n",
      "Epoch 58, CIFAR-10 Batch 2:  Custo:  0.0801475 Precisão:  0.6758\n",
      "Epoch 58, CIFAR-10 Batch 3:  Custo:  0.0706182 Precisão:  0.6804\n",
      "Epoch 58, CIFAR-10 Batch 4:  Custo:  0.0728374 Precisão:  0.6752\n",
      "Epoch 58, CIFAR-10 Batch 5:  Custo:  0.0587227 Precisão:  0.6766\n",
      "Epoch 59, CIFAR-10 Batch 1:  Custo:  0.0841649 Precisão:  0.6682\n",
      "Epoch 59, CIFAR-10 Batch 2:  Custo:  0.0824097 Precisão:  0.6776\n",
      "Epoch 59, CIFAR-10 Batch 3:  Custo:  0.0748877 Precisão:  0.6684\n",
      "Epoch 59, CIFAR-10 Batch 4:  Custo:  0.0722847 Precisão:  0.6646\n",
      "Epoch 59, CIFAR-10 Batch 5:  Custo:  0.0579054 Precisão:  0.6786\n",
      "Epoch 60, CIFAR-10 Batch 1:  Custo:  0.0930266 Precisão:  0.6682\n",
      "Epoch 60, CIFAR-10 Batch 2:  Custo:  0.0855635 Precisão:  0.6724\n",
      "Epoch 60, CIFAR-10 Batch 3:  Custo:  0.0705392 Precisão:  0.6788\n",
      "Epoch 60, CIFAR-10 Batch 4:  Custo:  0.071341 Precisão:  0.6698\n",
      "Epoch 60, CIFAR-10 Batch 5:  Custo:  0.0551242 Precisão:  0.6752\n"
     ]
    }
   ],
   "source": [
    "\"\"\"\n",
    "DON'T MODIFY ANYTHING IN THIS CELL\n",
    "\"\"\"\n",
    "save_model_path = './image_classification'\n",
    "\n",
    "print('Training...')\n",
    "with tf.Session() as sess:\n",
    "    # Initializing the variables\n",
    "    sess.run(tf.global_variables_initializer())\n",
    "    \n",
    "    # Training cycle\n",
    "    for epoch in range(epochs):\n",
    "        # Loop over all batches\n",
    "        n_batches = 5\n",
    "        for batch_i in range(1, n_batches + 1):\n",
    "            for batch_features, batch_labels in helper.load_preprocess_training_batch(batch_i, batch_size):\n",
    "                train_neural_network(sess, optimizer, keep_probability, batch_features, batch_labels)\n",
    "            print('Epoch {:>2}, CIFAR-10 Batch {}:  '.format(epoch + 1, batch_i), end='')\n",
    "            print_stats(sess, batch_features, batch_labels, cost, accuracy)\n",
    "            \n",
    "    # Save Model\n",
    "    saver = tf.train.Saver()\n",
    "    save_path = saver.save(sess, save_model_path)"
   ]
  },
  {
   "cell_type": "markdown",
   "metadata": {
    "deletable": true,
    "editable": true
   },
   "source": [
    "# Checkpoint\n",
    "The model has been saved to disk.\n",
    "## Test Model\n",
    "Test your model against the test dataset.  This will be your final accuracy. You should have an accuracy greater than 50%. If you don't, keep tweaking the model architecture and parameters."
   ]
  },
  {
   "cell_type": "code",
   "execution_count": 32,
   "metadata": {
    "collapsed": false,
    "deletable": true,
    "editable": true
   },
   "outputs": [
    {
     "name": "stdout",
     "output_type": "stream",
     "text": [
      "Testing Accuracy: 0.6698341846466065\n",
      "\n"
     ]
    },
    {
     "data": {
      "image/png": "[encoded data removed]",
      "text/plain": [
       "<matplotlib.figure.Figure at 0x7fb2e87dbf28>"
      ]
     },
     "metadata": {
      "image/png": {
       "height": 319,
       "width": 355
      }
     },
     "output_type": "display_data"
    }
   ],
   "source": [
    "\"\"\"\n",
    "DON'T MODIFY ANYTHING IN THIS CELL\n",
    "\"\"\"\n",
    "%matplotlib inline\n",
    "%config InlineBackend.figure_format = 'retina'\n",
    "\n",
    "import tensorflow as tf\n",
    "import pickle\n",
    "import helper\n",
    "import random\n",
    "\n",
    "# Set batch size if not already set\n",
    "try:\n",
    "    if batch_size:\n",
    "        pass\n",
    "except NameError:\n",
    "    batch_size = 64\n",
    "\n",
    "save_model_path = './image_classification'\n",
    "n_samples = 4\n",
    "top_n_predictions = 3\n",
    "\n",
    "def test_model():\n",
    "    \"\"\"\n",
    "    Test the saved model against the test dataset\n",
    "    \"\"\"\n",
    "\n",
    "    test_features, test_labels = pickle.load(open('preprocess_test.p', mode='rb'))\n",
    "    loaded_graph = tf.Graph()\n",
    "\n",
    "    with tf.Session(graph=loaded_graph) as sess:\n",
    "        # Load model\n",
    "        loader = tf.train.import_meta_graph(save_model_path + '.meta')\n",
    "        loader.restore(sess, save_model_path)\n",
    "\n",
    "        # Get Tensors from loaded model\n",
    "        loaded_x = loaded_graph.get_tensor_by_name('x:0')\n",
    "        loaded_y = loaded_graph.get_tensor_by_name('y:0')\n",
    "        loaded_keep_prob = loaded_graph.get_tensor_by_name('keep_prob:0')\n",
    "        loaded_logits = loaded_graph.get_tensor_by_name('logits:0')\n",
    "        loaded_acc = loaded_graph.get_tensor_by_name('accuracy:0')\n",
    "        \n",
    "        # Get accuracy in batches for memory limitations\n",
    "        test_batch_acc_total = 0\n",
    "        test_batch_count = 0\n",
    "        \n",
    "        for test_feature_batch, test_label_batch in helper.batch_features_labels(test_features, test_labels, batch_size):\n",
    "            test_batch_acc_total += sess.run(\n",
    "                loaded_acc,\n",
    "                feed_dict={loaded_x: test_feature_batch, loaded_y: test_label_batch, loaded_keep_prob: 1.0})\n",
    "            test_batch_count += 1\n",
    "\n",
    "        print('Testing Accuracy: {}\\n'.format(test_batch_acc_total/test_batch_count))\n",
    "\n",
    "        # Print Random Samples\n",
    "        random_test_features, random_test_labels = tuple(zip(*random.sample(list(zip(test_features, test_labels)), n_samples)))\n",
    "        random_test_predictions = sess.run(\n",
    "            tf.nn.top_k(tf.nn.softmax(loaded_logits), top_n_predictions),\n",
    "            feed_dict={loaded_x: random_test_features, loaded_y: random_test_labels, loaded_keep_prob: 1.0})\n",
    "        helper.display_image_predictions(random_test_features, random_test_labels, random_test_predictions)\n",
    "\n",
    "\n",
    "test_model()"
   ]
  },
  {
   "cell_type": "markdown",
   "metadata": {
    "deletable": true,
    "editable": true
   },
   "source": [
    "## Why 50-80% Accuracy?\n",
    "You might be wondering why you can't get an accuracy any higher. First things first, 50% isn't bad for a simple CNN.  Pure guessing would get you 10% accuracy. However, you might notice people are getting scores [well above 80%](http://rodrigob.github.io/are_we_there_yet/build/classification_datasets_results.html#43494641522d3130).  That's because we haven't taught you all there is to know about neural networks. We still need to cover a few more techniques.\n",
    "## Submitting This Project\n",
    "When submitting this project, make sure to run all the cells before saving the notebook.  Save the notebook file as \"dlnd_image_classification.ipynb\" and save it as a HTML file under \"File\" -> \"Download as\".  Include the \"helper.py\" and \"problem_unittests.py\" files in your submission."
   ]
  }
 ],
 "metadata": {
  "kernelspec": {
   "display_name": "Python 3",
   "language": "python",
   "name": "python3"
  },
  "language_info": {
   "codemirror_mode": {
    "name": "ipython",
    "version": 3
   },
   "file_extension": ".py",
   "mimetype": "text/x-python",
   "name": "python",
   "nbconvert_exporter": "python",
   "pygments_lexer": "ipython3",
   "version": "3.5.2"
  },
  "widgets": {
   "state": {},
   "version": "1.1.2"
  }
 },
 "nbformat": 4,
 "nbformat_minor": 1
}
